{
 "cells": [
  {
   "cell_type": "code",
   "execution_count": 1,
   "id": "15ec0318-9797-4828-8ed3-3cb762af0bef",
   "metadata": {},
   "outputs": [],
   "source": [
    "import joblib\n",
    "import pandas as pd\n",
    "import numpy as np\n",
    "from sklearn.ensemble import RandomForestClassifier\n",
    "from sklearn.model_selection import train_test_split\n",
    "from sklearn.preprocessing import StandardScaler\n",
    "from sklearn.metrics import classification_report, accuracy_score, confusion_matrix"
   ]
  },
  {
   "cell_type": "code",
   "execution_count": null,
   "id": "62d308f9-351d-4c32-8820-028f162f9fb0",
   "metadata": {},
   "outputs": [],
   "source": [
    "###The below algorithm is Random Forest"
   ]
  },
  {
   "cell_type": "code",
   "execution_count": 2,
   "id": "f8bed649-a5a0-4359-9d08-5e914881ead6",
   "metadata": {},
   "outputs": [],
   "source": [
    "file_label = pd.read_csv('./6_flood/fraud_forward.csv')\n",
    "y_label = file_label['is_fraud']\n",
    "X_test = file_label[['inv_time_diff_ms', 'transaction_count']].fillna(0)"
   ]
  },
  {
   "cell_type": "code",
   "execution_count": 4,
   "id": "696ec71f-411c-4da8-98a5-e7f7e026403a",
   "metadata": {},
   "outputs": [
    {
     "name": "stdout",
     "output_type": "stream",
     "text": [
      "Accuracy: 0.9639854335136293\n",
      "Confusion Matrix:\n",
      "[[92582  4519]\n",
      " [  861 51422]]\n"
     ]
    }
   ],
   "source": [
    "rf = joblib.load('random_forest_model.pkl')\n",
    "y_rf_pred = rf.predict(X_test)\n",
    "print(\"Accuracy:\", accuracy_score(y_label, y_rf_pred))\n",
    "print(\"Confusion Matrix:\")\n",
    "print(confusion_matrix(y_label, y_rf_pred))\n"
   ]
  },
  {
   "cell_type": "code",
   "execution_count": 7,
   "id": "9c7d5336-0f34-4340-89f1-fe30a7976500",
   "metadata": {},
   "outputs": [
    {
     "name": "stdout",
     "output_type": "stream",
     "text": [
      "              precision    recall  f1-score   support\n",
      "\n",
      "           0       0.99      0.95      0.97     97101\n",
      "           1       0.92      0.98      0.95     52283\n",
      "\n",
      "    accuracy                           0.96    149384\n",
      "   macro avg       0.96      0.97      0.96    149384\n",
      "weighted avg       0.97      0.96      0.96    149384\n",
      "\n"
     ]
    }
   ],
   "source": [
    "print(classification_report(y_label, y_rf_pred))"
   ]
  },
  {
   "cell_type": "code",
   "execution_count": 9,
   "id": "7aa154d1-07cf-4c7c-b840-4e77d2e5f799",
   "metadata": {},
   "outputs": [],
   "source": [
    "####The below algorithm is support vector machine kernel\n"
   ]
  },
  {
   "cell_type": "code",
   "execution_count": 12,
   "id": "1ba3b972-cc93-4a5e-b37e-da6a2503fe22",
   "metadata": {},
   "outputs": [
    {
     "name": "stdout",
     "output_type": "stream",
     "text": [
      "Accuracy: 0.9683701065709849\n",
      "Confusion Matrix:\n",
      "[[92935  4166]\n",
      " [  559 51724]]\n",
      "              precision    recall  f1-score   support\n",
      "\n",
      "           0       0.99      0.96      0.98     97101\n",
      "           1       0.93      0.99      0.96     52283\n",
      "\n",
      "    accuracy                           0.97    149384\n",
      "   macro avg       0.96      0.97      0.97    149384\n",
      "weighted avg       0.97      0.97      0.97    149384\n",
      "\n"
     ]
    }
   ],
   "source": [
    "scaler = joblib.load('scaler.pkl')\n",
    "X_svm_scaled = scaler.transform(X_test)\n",
    "svm_grid = joblib.load('svm_model_grid.pkl')\n",
    "y_svm_pred_best = svm_grid.predict(X_svm_scaled)\n",
    "print(\"Accuracy:\", accuracy_score(y_label, y_svm_pred_best))\n",
    "print(\"Confusion Matrix:\")\n",
    "print(confusion_matrix(y_label, y_svm_pred_best))\n",
    "print(classification_report(y_label, y_svm_pred_best))"
   ]
  },
  {
   "cell_type": "code",
   "execution_count": null,
   "id": "28638229-032b-49d7-992c-5b9e4a814a05",
   "metadata": {},
   "outputs": [],
   "source": []
  }
 ],
 "metadata": {
  "kernelspec": {
   "display_name": "Python 3 (ipykernel)",
   "language": "python",
   "name": "python3"
  },
  "language_info": {
   "codemirror_mode": {
    "name": "ipython",
    "version": 3
   },
   "file_extension": ".py",
   "mimetype": "text/x-python",
   "name": "python",
   "nbconvert_exporter": "python",
   "pygments_lexer": "ipython3",
   "version": "3.12.2"
  }
 },
 "nbformat": 4,
 "nbformat_minor": 5
}
