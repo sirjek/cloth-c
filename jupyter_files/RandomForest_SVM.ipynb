{
 "cells": [
  {
   "cell_type": "code",
   "execution_count": 203,
   "id": "2bf2a2d8-5aa7-4ba5-86dd-7a79f370ba19",
   "metadata": {},
   "outputs": [],
   "source": [
    "import pandas as pd\n",
    "import numpy as np\n",
    "from sklearn.ensemble import RandomForestClassifier\n",
    "from sklearn.model_selection import train_test_split\n",
    "from sklearn.metrics import classification_report, accuracy_score, confusion_matrix\n",
    "from sklearn.svm import SVC\n",
    "from sklearn.preprocessing import StandardScaler\n",
    "from sklearn.model_selection import GridSearchCV"
   ]
  },
  {
   "cell_type": "code",
   "execution_count": null,
   "id": "8307126c-9716-49de-b0da-0eb1669ac6a7",
   "metadata": {},
   "outputs": [],
   "source": [
    "##Training The Random forest"
   ]
  },
  {
   "cell_type": "code",
   "execution_count": 205,
   "id": "eb083f15-42a3-420b-908d-84124310c7c3",
   "metadata": {},
   "outputs": [],
   "source": [
    "file_label = pd.read_csv('./5_flood/fraud_label.csv')\n",
    "features = file_label[['inv_time_diff_ms', 'transaction_count']]\n",
    "labels = file_label['is_fraud']\n",
    "X_train, X_test, y_train, y_test = train_test_split(features, labels, test_size=0.2, random_state=42)"
   ]
  },
  {
   "cell_type": "code",
   "execution_count": 207,
   "id": "23b27f20-e0d4-41be-8712-aaa499988c53",
   "metadata": {},
   "outputs": [],
   "source": [
    "rf = RandomForestClassifier(n_estimators=100, random_state=42)\n",
    "rf.fit(X_train, y_train)\n",
    "y_pred_rf = rf.predict(X_test)"
   ]
  },
  {
   "cell_type": "code",
   "execution_count": 208,
   "id": "606f1e71-009d-4132-936c-67d147a906d5",
   "metadata": {},
   "outputs": [
    {
     "name": "stdout",
     "output_type": "stream",
     "text": [
      "Accuracy: 0.9998158435898223\n",
      "Confusion Matrix:\n",
      "[[19507     1]\n",
      " [    5 13068]]\n",
      "Classification Report:\n",
      "              precision    recall  f1-score   support\n",
      "\n",
      "           0       0.99      0.99      0.99     19508\n",
      "           1       0.99      0.98      0.98     13073\n",
      "\n",
      "    accuracy                           0.99     32581\n",
      "   macro avg       0.99      0.99      0.99     32581\n",
      "weighted avg       0.99      0.99      0.99     32581\n",
      "\n"
     ]
    }
   ],
   "source": [
    "print(\"Accuracy:\", accuracy_score(y_test, y_pred_rf))\n",
    "print(\"Confusion Matrix:\")\n",
    "print(confusion_matrix(y_test, y_pred_rf))\n",
    "print(\"Classification Report:\")\n",
    "print(classification_report(y_test, y_pred))"
   ]
  },
  {
   "cell_type": "code",
   "execution_count": 209,
   "id": "29159dd3-6029-4c97-aabf-2a9a798e3560",
   "metadata": {},
   "outputs": [
    {
     "name": "stdout",
     "output_type": "stream",
     "text": [
      "inv_time_diff_ms     0.803828\n",
      "transaction_count    0.196172\n",
      "dtype: float64\n"
     ]
    }
   ],
   "source": [
    "feature_correlation = pd.Series(rf.feature_importances_, index=features.columns).sort_values(ascending=False)\n",
    "print(feature_correlation)"
   ]
  },
  {
   "cell_type": "code",
   "execution_count": 210,
   "id": "5805b363-358e-43e2-8964-800202e7f87d",
   "metadata": {},
   "outputs": [],
   "source": [
    "#import joblib\n",
    "\n",
    "#joblib.dump(rf, 'random_forest_model.pkl')"
   ]
  },
  {
   "cell_type": "code",
   "execution_count": null,
   "id": "f3ad5d82-4af0-474f-be68-ca3048e58f43",
   "metadata": {},
   "outputs": [],
   "source": [
    "##Training the Support Vector Machine and optimising the parameters"
   ]
  },
  {
   "cell_type": "code",
   "execution_count": 211,
   "id": "73cf094c-1d37-4e5b-bee7-cbd395448a49",
   "metadata": {},
   "outputs": [],
   "source": [
    "scaler = StandardScaler()\n",
    "X_train = scaler.fit_transform(X_train)\n",
    "joblib.dump(scaler, 'scaler.pkl')\n",
    "X_test = scaler.transform(X_test)"
   ]
  },
  {
   "cell_type": "code",
   "execution_count": 188,
   "id": "d75a5b37-3c1c-44f3-b8b3-9350164ccab0",
   "metadata": {},
   "outputs": [
    {
     "name": "stdout",
     "output_type": "stream",
     "text": [
      "Fitting 5 folds for each of 20 candidates, totalling 100 fits\n",
      "Best Parameters: {'C': 1000, 'gamma': 1, 'kernel': 'rbf'}\n",
      "Best Cross-Validation Score: 0.9860116634206616\n"
     ]
    }
   ],
   "source": [
    "param_grid = {\n",
    "    'C': [0.1, 1, 10, 100, 1000],  \n",
    "    'gamma': [1, 0.1, 0.01, 0.001], \n",
    "    'kernel': ['rbf']\n",
    "}\n",
    "\n",
    "svm_rbf = SVC()\n",
    "\n",
    "##cross-validation\n",
    "grid_search = GridSearchCV(estimator=svm_rbf, param_grid=param_grid, cv=5, verbose=2, n_jobs=-1)\n",
    "\n",
    "\n",
    "grid_search.fit(X_train, y_train)\n",
    "\n",
    "\n",
    "print(\"Best Parameters:\", grid_search.best_params_)\n",
    "\n",
    "\n",
    "print(\"Best Cross-Validation Score:\", grid_search.best_score_)\n",
    "\n"
   ]
  },
  {
   "cell_type": "code",
   "execution_count": 199,
   "id": "451279f5-e055-4235-a74c-783cba3c4c34",
   "metadata": {},
   "outputs": [
    {
     "name": "stdout",
     "output_type": "stream",
     "text": [
      "Classification Report:\n",
      "              precision    recall  f1-score   support\n",
      "\n",
      "           0       0.99      0.99      0.99     19508\n",
      "           1       0.99      0.98      0.98     13073\n",
      "\n",
      "    accuracy                           0.99     32581\n",
      "   macro avg       0.99      0.99      0.99     32581\n",
      "weighted avg       0.99      0.99      0.99     32581\n",
      "\n",
      "Confusion Matrix:\n",
      "[[19336   172]\n",
      " [  249 12824]]\n",
      "Accuracy: 0.9870783585525306\n"
     ]
    }
   ],
   "source": [
    "svm_rbf_para = SVC(C=1000, gamma=1, kernel='rbf', random_state=42)\n",
    "svm_rbf_para.fit(X_train, y_train)\n",
    "y_pred = svm_rbf_para.predict(X_test)\n",
    "\n",
    "print(\"Classification Report:\")\n",
    "print(classification_report(y_test, y_pred))\n",
    "\n",
    "print(\"Confusion Matrix:\")\n",
    "print(confusion_matrix(y_test, y_pred))\n",
    "print(\"Accuracy:\", accuracy_score(y_test, y_pred))"
   ]
  },
  {
   "cell_type": "code",
   "execution_count": null,
   "id": "4e373c20-7e90-4073-83f5-9d7507203e71",
   "metadata": {},
   "outputs": [],
   "source": [
    "#joblib.dump(svm_rbf_para, 'svm_model_grid.pkl')"
   ]
  }
 ],
 "metadata": {
  "kernelspec": {
   "display_name": "Python 3 (ipykernel)",
   "language": "python",
   "name": "python3"
  },
  "language_info": {
   "codemirror_mode": {
    "name": "ipython",
    "version": 3
   },
   "file_extension": ".py",
   "mimetype": "text/x-python",
   "name": "python",
   "nbconvert_exporter": "python",
   "pygments_lexer": "ipython3",
   "version": "3.12.2"
  }
 },
 "nbformat": 4,
 "nbformat_minor": 5
}
