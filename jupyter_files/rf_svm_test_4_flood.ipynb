{
 "cells": [
  {
   "cell_type": "code",
   "execution_count": 97,
   "id": "15ec0318-9797-4828-8ed3-3cb762af0bef",
   "metadata": {},
   "outputs": [],
   "source": [
    "import joblib\n",
    "import pandas as pd\n",
    "import numpy as np\n",
    "from sklearn.ensemble import RandomForestClassifier\n",
    "from sklearn.model_selection import train_test_split\n",
    "from sklearn.preprocessing import StandardScaler\n",
    "from sklearn.metrics import classification_report, accuracy_score, confusion_matrix"
   ]
  },
  {
   "cell_type": "code",
   "execution_count": null,
   "id": "39a47bcf-1662-42c7-9f55-382ac7e35077",
   "metadata": {},
   "outputs": [],
   "source": [
    "##Random Forest"
   ]
  },
  {
   "cell_type": "code",
   "execution_count": 99,
   "id": "f8bed649-a5a0-4359-9d08-5e914881ead6",
   "metadata": {},
   "outputs": [],
   "source": [
    "file_label = pd.read_csv('./4_flood/4_flood_fraud_forward.csv')\n",
    "y_label = file_label['is_fraud']\n",
    "X_test = file_label[['inv_time_diff_ms', 'transaction_count']].fillna(0)"
   ]
  },
  {
   "cell_type": "code",
   "execution_count": 101,
   "id": "696ec71f-411c-4da8-98a5-e7f7e026403a",
   "metadata": {},
   "outputs": [
    {
     "name": "stdout",
     "output_type": "stream",
     "text": [
      "Accuracy: 0.9320422893158483\n",
      "Confusion Matrix:\n",
      "[[16528   206]\n",
      " [ 1131  1809]]\n"
     ]
    }
   ],
   "source": [
    "rf = joblib.load('random_forest_model.pkl')\n",
    "y_rf_pred = rf.predict(X_test)\n",
    "print(\"Accuracy:\", accuracy_score(y_label, y_rf_pred))\n",
    "print(\"Confusion Matrix:\")\n",
    "print(confusion_matrix(y_label, y_rf_pred))\n"
   ]
  },
  {
   "cell_type": "code",
   "execution_count": 103,
   "id": "9c7d5336-0f34-4340-89f1-fe30a7976500",
   "metadata": {},
   "outputs": [
    {
     "name": "stdout",
     "output_type": "stream",
     "text": [
      "              precision    recall  f1-score   support\n",
      "\n",
      "           0       0.94      0.99      0.96     16734\n",
      "           1       0.90      0.62      0.73      2940\n",
      "\n",
      "    accuracy                           0.93     19674\n",
      "   macro avg       0.92      0.80      0.85     19674\n",
      "weighted avg       0.93      0.93      0.93     19674\n",
      "\n"
     ]
    }
   ],
   "source": [
    "print(classification_report(y_label, y_rf_pred))"
   ]
  },
  {
   "cell_type": "code",
   "execution_count": null,
   "id": "c5a10b08-0309-492a-9e03-4a1f9d94b9ba",
   "metadata": {},
   "outputs": [],
   "source": [
    "##Support Vector Machine Kernel"
   ]
  },
  {
   "cell_type": "code",
   "execution_count": 108,
   "id": "1ba3b972-cc93-4a5e-b37e-da6a2503fe22",
   "metadata": {},
   "outputs": [
    {
     "name": "stdout",
     "output_type": "stream",
     "text": [
      "Accuracy: 0.9328047168852293\n",
      "Confusion Matrix:\n",
      "[[16534   200]\n",
      " [ 1122  1818]]\n",
      "              precision    recall  f1-score   support\n",
      "\n",
      "           0       0.94      0.99      0.96     16734\n",
      "           1       0.90      0.62      0.73      2940\n",
      "\n",
      "    accuracy                           0.93     19674\n",
      "   macro avg       0.92      0.80      0.85     19674\n",
      "weighted avg       0.93      0.93      0.93     19674\n",
      "\n"
     ]
    }
   ],
   "source": [
    "scaler = joblib.load('scaler.pkl')\n",
    "X_svm_scaled = scaler.transform(X_test)\n",
    "svm_grid = joblib.load('svm_model_grid.pkl')\n",
    "y_svm_pred_best = svm_grid.predict(X_svm_scaled)\n",
    "print(\"Accuracy:\", accuracy_score(y_label, y_svm_pred_best))\n",
    "print(\"Confusion Matrix:\")\n",
    "print(confusion_matrix(y_label, y_svm_pred_best))\n",
    "print(classification_report(y_label, y_svm_pred_best))"
   ]
  },
  {
   "cell_type": "code",
   "execution_count": null,
   "id": "28638229-032b-49d7-992c-5b9e4a814a05",
   "metadata": {},
   "outputs": [],
   "source": []
  }
 ],
 "metadata": {
  "kernelspec": {
   "display_name": "Python 3 (ipykernel)",
   "language": "python",
   "name": "python3"
  },
  "language_info": {
   "codemirror_mode": {
    "name": "ipython",
    "version": 3
   },
   "file_extension": ".py",
   "mimetype": "text/x-python",
   "name": "python",
   "nbconvert_exporter": "python",
   "pygments_lexer": "ipython3",
   "version": "3.12.2"
  }
 },
 "nbformat": 4,
 "nbformat_minor": 5
}
